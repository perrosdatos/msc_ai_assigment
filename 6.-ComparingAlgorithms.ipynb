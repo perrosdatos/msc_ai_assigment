{
 "cells": [
  {
   "cell_type": "code",
   "execution_count": 1,
   "id": "5e0b0d04-2cf0-4edc-9f70-645185c0ed44",
   "metadata": {},
   "outputs": [],
   "source": [
    "from branch_bound.TSP import TSPBranchBound\n",
    "from ga.tsp_ga_din_crossover import TSPGA \n",
    "from ga.tsp_ga import TSPGA as TSPGAStaticCrossover\n",
    "from utils.draw import draw_custom_weighted_graph\n",
    "from utils.json_manager import read_json, write_json\n",
    "from utils.generate import generate_network, generate_sequential_pairs\n",
    "from itertools import permutations, combinations\n",
    "import pandas as pd\n",
    "import numpy as np\n"
   ]
  },
  {
   "cell_type": "code",
   "execution_count": 2,
   "id": "60f3aaeb-3a7f-4c20-a9ea-f4b2fc40d2f7",
   "metadata": {},
   "outputs": [],
   "source": [
    "import datetime as dt\n",
    "def scheduler(solution, name=\"\"):\n",
    "    start = dt.datetime.now()\n",
    "    tour, cost = solution.run()\n",
    "    end = dt.datetime.now()\n",
    "    seconds = (end-start).total_seconds()\n",
    "    print(f\"{name}: The process started {start} and ended at {end} with {seconds} seconds\")\n",
    "    return tour, cost, start, end, seconds"
   ]
  },
  {
   "cell_type": "code",
   "execution_count": 3,
   "id": "215abb08-a3ac-4b86-9db9-710c1c94838e",
   "metadata": {},
   "outputs": [
    {
     "name": "stdout",
     "output_type": "stream",
     "text": [
      "Simulating from 3 to 4\n",
      "NODES = 18\n",
      "Branch & Bound: The process started 2024-09-29 18:43:56.039285 and ended at 2024-09-29 19:26:51.893014 with 2575.853729 seconds\n",
      "TSPGA Proposed: The process started 2024-09-29 19:26:51.893520 and ended at 2024-09-29 19:26:52.153160 with 0.25964 seconds\n",
      "TSPGA Static Crossover: The process started 2024-09-29 19:26:52.153878 and ended at 2024-09-29 19:26:52.361283 with 0.207405 seconds\n",
      "NODES = 18\n"
     ]
    },
    {
     "name": "stderr",
     "output_type": "stream",
     "text": [
      "/home/datadog/Documentos/maestria/projects/msc_ai_assigment/branch_bound/TSP.py:62: SyntaxWarning: \"is not\" with a literal. Did you mean \"!=\"?\n",
      "  if src is not 1:\n",
      "/home/datadog/Documentos/maestria/projects/msc_ai_assigment/branch_bound/TSP.py:62: SyntaxWarning: \"is not\" with a literal. Did you mean \"!=\"?\n",
      "  if src is not 1:\n",
      "/home/datadog/Documentos/maestria/projects/msc_ai_assigment/branch_bound/TSP.py:62: SyntaxWarning: \"is not\" with a literal. Did you mean \"!=\"?\n",
      "  if src is not 1:\n",
      "/home/datadog/Documentos/maestria/projects/msc_ai_assigment/branch_bound/TSP.py:62: SyntaxWarning: \"is not\" with a literal. Did you mean \"!=\"?\n",
      "  if src is not 1:\n",
      "/home/datadog/Documentos/maestria/projects/msc_ai_assigment/branch_bound/TSP.py:62: SyntaxWarning: \"is not\" with a literal. Did you mean \"!=\"?\n",
      "  if src is not 1:\n",
      "/home/datadog/Documentos/maestria/projects/msc_ai_assigment/branch_bound/TSP.py:62: SyntaxWarning: \"is not\" with a literal. Did you mean \"!=\"?\n",
      "  if src is not 1:\n",
      "/home/datadog/Documentos/maestria/projects/msc_ai_assigment/branch_bound/TSP.py:62: SyntaxWarning: \"is not\" with a literal. Did you mean \"!=\"?\n",
      "  if src is not 1:\n"
     ]
    },
    {
     "ename": "KeyboardInterrupt",
     "evalue": "",
     "output_type": "error",
     "traceback": [
      "\u001b[0;31m---------------------------------------------------------------------------\u001b[0m",
      "\u001b[0;31mKeyboardInterrupt\u001b[0m                         Traceback (most recent call last)",
      "File \u001b[0;32m<timed exec>:22\u001b[0m, in \u001b[0;36m<module>\u001b[0;34m\u001b[0m\n",
      "Input \u001b[0;32mIn [2]\u001b[0m, in \u001b[0;36mscheduler\u001b[0;34m(solution, name)\u001b[0m\n\u001b[1;32m      2\u001b[0m \u001b[38;5;28;01mdef\u001b[39;00m \u001b[38;5;21mscheduler\u001b[39m(solution, name\u001b[38;5;241m=\u001b[39m\u001b[38;5;124m\"\u001b[39m\u001b[38;5;124m\"\u001b[39m):\n\u001b[1;32m      3\u001b[0m     start \u001b[38;5;241m=\u001b[39m dt\u001b[38;5;241m.\u001b[39mdatetime\u001b[38;5;241m.\u001b[39mnow()\n\u001b[0;32m----> 4\u001b[0m     tour, cost \u001b[38;5;241m=\u001b[39m \u001b[43msolution\u001b[49m\u001b[38;5;241;43m.\u001b[39;49m\u001b[43mrun\u001b[49m\u001b[43m(\u001b[49m\u001b[43m)\u001b[49m\n\u001b[1;32m      5\u001b[0m     end \u001b[38;5;241m=\u001b[39m dt\u001b[38;5;241m.\u001b[39mdatetime\u001b[38;5;241m.\u001b[39mnow()\n\u001b[1;32m      6\u001b[0m     seconds \u001b[38;5;241m=\u001b[39m (end\u001b[38;5;241m-\u001b[39mstart)\u001b[38;5;241m.\u001b[39mtotal_seconds()\n",
      "File \u001b[0;32m~/Documentos/maestria/projects/msc_ai_assigment/branch_bound/TSP.py:110\u001b[0m, in \u001b[0;36mTSPBranchBound.run\u001b[0;34m(self)\u001b[0m\n\u001b[1;32m    105\u001b[0m \u001b[38;5;28;01mdef\u001b[39;00m \u001b[38;5;21mrun\u001b[39m(\u001b[38;5;28mself\u001b[39m):\n\u001b[1;32m    106\u001b[0m     \n\u001b[1;32m    107\u001b[0m     \u001b[38;5;66;03m# Initialize/reset variables before each run\u001b[39;00m\n\u001b[1;32m    108\u001b[0m     adj \u001b[38;5;241m=\u001b[39m getting_ady_list(nodes\u001b[38;5;241m=\u001b[39m\u001b[38;5;28mself\u001b[39m\u001b[38;5;241m.\u001b[39mnodes, edges\u001b[38;5;241m=\u001b[39m\u001b[38;5;28mself\u001b[39m\u001b[38;5;241m.\u001b[39medges)\n\u001b[0;32m--> 110\u001b[0m     tour, cost \u001b[38;5;241m=\u001b[39m \u001b[43mtravel\u001b[49m\u001b[43m(\u001b[49m\u001b[43madj\u001b[49m\u001b[43m)\u001b[49m\n\u001b[1;32m    112\u001b[0m     \u001b[38;5;28;01mreturn\u001b[39;00m tour[:\u001b[38;5;241m-\u001b[39m\u001b[38;5;241m1\u001b[39m], cost\n",
      "File \u001b[0;32m~/Documentos/maestria/projects/msc_ai_assigment/branch_bound/TSP.py:54\u001b[0m, in \u001b[0;36mtravel\u001b[0;34m(adj_mat, src)\u001b[0m\n\u001b[1;32m     51\u001b[0m         optimal_tour \u001b[38;5;241m=\u001b[39m u\u001b[38;5;241m.\u001b[39mpath[:]\n\u001b[1;32m     53\u001b[0m \u001b[38;5;28;01melse\u001b[39;00m:\n\u001b[0;32m---> 54\u001b[0m     u\u001b[38;5;241m.\u001b[39mbound \u001b[38;5;241m=\u001b[39m \u001b[43mbound\u001b[49m\u001b[43m(\u001b[49m\u001b[43madj_mat\u001b[49m\u001b[43m,\u001b[49m\u001b[43m \u001b[49m\u001b[43mu\u001b[49m\u001b[43m)\u001b[49m\n\u001b[1;32m     55\u001b[0m     \u001b[38;5;28;01mif\u001b[39;00m u\u001b[38;5;241m.\u001b[39mbound \u001b[38;5;241m<\u001b[39m min_length:\n\u001b[1;32m     56\u001b[0m         PQ\u001b[38;5;241m.\u001b[39mput(u)\n",
      "File \u001b[0;32m~/Documentos/maestria/projects/msc_ai_assigment/branch_bound/TSP.py:84\u001b[0m, in \u001b[0;36mbound\u001b[0;34m(adj_mat, node)\u001b[0m\n\u001b[1;32m     82\u001b[0m determined, last \u001b[38;5;241m=\u001b[39m path[:\u001b[38;5;241m-\u001b[39m\u001b[38;5;241m1\u001b[39m], path[\u001b[38;5;241m-\u001b[39m\u001b[38;5;241m1\u001b[39m]\n\u001b[1;32m     83\u001b[0m \u001b[38;5;66;03m# remain is index based\u001b[39;00m\n\u001b[0;32m---> 84\u001b[0m remain \u001b[38;5;241m=\u001b[39m \u001b[38;5;28;43mfilter\u001b[39;49m\u001b[43m(\u001b[49m\u001b[38;5;28;43;01mlambda\u001b[39;49;00m\u001b[43m \u001b[49m\u001b[43mx\u001b[49m\u001b[43m:\u001b[49m\u001b[43m \u001b[49m\u001b[43mx\u001b[49m\u001b[43m \u001b[49m\u001b[38;5;129;43;01mnot\u001b[39;49;00m\u001b[43m \u001b[49m\u001b[38;5;129;43;01min\u001b[39;49;00m\u001b[43m \u001b[49m\u001b[43mpath\u001b[49m\u001b[43m,\u001b[49m\u001b[43m \u001b[49m\u001b[38;5;28;43mrange\u001b[39;49m\u001b[43m(\u001b[49m\u001b[43mn\u001b[49m\u001b[43m)\u001b[49m\u001b[43m)\u001b[49m\n\u001b[1;32m     86\u001b[0m \u001b[38;5;66;03m# for the edges that are certain\u001b[39;00m\n\u001b[1;32m     87\u001b[0m \u001b[38;5;28;01mfor\u001b[39;00m i \u001b[38;5;129;01min\u001b[39;00m \u001b[38;5;28mrange\u001b[39m(\u001b[38;5;28mlen\u001b[39m(path) \u001b[38;5;241m-\u001b[39m \u001b[38;5;241m1\u001b[39m):\n",
      "\u001b[0;31mKeyboardInterrupt\u001b[0m: "
     ]
    }
   ],
   "source": [
    "%%time\n",
    "params = {\n",
    "    \"population_prop\":1.1, \"crossover_proportion\":0.8,\"mutation_thd\":0.3, \"exploration_prob\":0.2\n",
    "}\n",
    "results = [] #{\"branch_bound\":{}, \"tspga_proposed\":{}, \"tspga\":{}}\n",
    "graphs_generated = []\n",
    "ids = 0\n",
    "\n",
    "range_a, range_b = 18, 21\n",
    "repetitions_for_each_scenario = 10\n",
    "print(f\"Simulating from 3 to 4\")\n",
    "for num_nodes in range(range_a, range_b):\n",
    "    for _ in range(repetitions_for_each_scenario):\n",
    "        # Generation of a random network\n",
    "        nodes, edges = generate_network(num_nodes=num_nodes, rand_a=0, rand_b=300)\n",
    "    \n",
    "        graphs_generated.append({\"id_simulated\":ids, \"num_nodes\":num_nodes, \"edges\" : edges})\n",
    "        \n",
    "        print(f\"NODES = {num_nodes}\")\n",
    "\n",
    "        # TSP Branch&Bound\n",
    "        tsp_search = TSPBranchBound(nodes, edges)\n",
    "        tour, cost, start, end, seconds = scheduler(tsp_search, \"Branch & Bound\")\n",
    "        results.append({\"type\":\"branch_bound\", \"id_simulated\":ids, \"num_nodes\":num_nodes, \"tour\":tour[:-1],\n",
    "                        \"cost\":cost, \"start\":str(start), \"end\":str(end), \"seconds\":seconds })\n",
    "\n",
    "        # TSPGA\n",
    "        ga = TSPGA(nodes, edges, **params, )\n",
    "        tour, cost, start, end, seconds = scheduler(ga, \"TSPGA Proposed\")\n",
    "        results.append({\"type\":\"tspga_proposed\", \"id_simulated\":ids, \"num_nodes\":num_nodes, \"tour\":tour,\n",
    "                        \"cost\":cost, \"start\":str(start), \"end\":str(end), \"seconds\":seconds })\n",
    "        \n",
    "        # TSPGAStaticCrossover\n",
    "        ga = TSPGAStaticCrossover(nodes, edges, **params)\n",
    "        tour, cost, start, end, seconds = scheduler(ga, \"TSPGA Static Crossover\")\n",
    "        results.append({\"type\":\"tspga\", \"id_simulated\":ids, \"num_nodes\":num_nodes, \"tour\":tour, \"cost\":cost,\n",
    "                        \"start\":str(start), \"end\":str(end), \"seconds\":seconds })\n",
    "\n",
    "        ids+=1\n",
    "    "
   ]
  },
  {
   "cell_type": "code",
   "execution_count": 6,
   "id": "98b55817-fffc-4637-9595-ca536666c0e5",
   "metadata": {},
   "outputs": [],
   "source": [
    "final_path = \"numeric_comparision/fourth/\"\n",
    "write_json(results, filename=final_path+\"results.json\")\n",
    "write_json(graphs_generated, filename=final_path+\"graphs.json\")"
   ]
  },
  {
   "cell_type": "code",
   "execution_count": 5,
   "id": "4ca255c0-6b0f-4fbd-a76b-d12afbc6c1eb",
   "metadata": {},
   "outputs": [],
   "source": [
    "final_path = \"numeric_comparision/fourth/\"\n",
    "results = read_json(filename=final_path+\"results.json\")\n",
    "graphs_generated = read_json(filename=final_path+\"graphs.json\")"
   ]
  }
 ],
 "metadata": {
  "kernelspec": {
   "display_name": "Python 3 (ipykernel)",
   "language": "python",
   "name": "python3"
  },
  "language_info": {
   "codemirror_mode": {
    "name": "ipython",
    "version": 3
   },
   "file_extension": ".py",
   "mimetype": "text/x-python",
   "name": "python",
   "nbconvert_exporter": "python",
   "pygments_lexer": "ipython3",
   "version": "3.8.11"
  }
 },
 "nbformat": 4,
 "nbformat_minor": 5
}
