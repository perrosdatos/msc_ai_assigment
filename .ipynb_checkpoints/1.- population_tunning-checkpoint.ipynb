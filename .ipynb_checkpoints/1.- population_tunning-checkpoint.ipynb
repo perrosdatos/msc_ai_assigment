{
 "cells": [
  {
   "cell_type": "code",
   "execution_count": 3,
   "id": "dc396b44-4fa8-4d18-9ff5-17961b21d09f",
   "metadata": {},
   "outputs": [],
   "source": [
    "from utils.draw import draw_custom_weighted_graph\n",
    "from ga.tsp_ga import TSPGA\n",
    "from ga.tsp_ga_din_crossover import TSPGA as TSPGAC\n",
    "from ga.tsp_ga_parallel import TSPGA as TSPGAP"
   ]
  },
  {
   "cell_type": "code",
   "execution_count": 4,
   "id": "9254e10b-db72-4177-97df-20fbff535ba2",
   "metadata": {},
   "outputs": [],
   "source": [
    "from itertools import permutations\n",
    "import random\n",
    "from tqdm import tqdm\n",
    "def generate_network(num_nodes, rand_a, rand_b):\n",
    "    nodes_list = [x for x in range(num_nodes)]\n",
    "    edges = list(permutations(nodes_list, 2))\n",
    "    edges_w = [(*x, random.randint(rand_a,rand_b)) for x in edges]\n",
    "\n",
    "    return nodes_list, edges_w\n",
    "\n",
    "def evaluate_several_options(gas = [], steps_number = 100):\n",
    "    steps = []\n",
    "    costs_list = [[] for _ in gas]\n",
    "    for step in tqdm(range(steps_number), desc=\"Running RA for all options\"):\n",
    "        for idx, ga in enumerate(gas):\n",
    "            new_population, new_costs = ga.step()\n",
    "            tour,cost = min(zip(new_population, new_costs), key=lambda el:el[1])\n",
    "            costs_list[idx].append(cost)\n",
    "        steps.append(step)\n",
    "    return steps, costs_list"
   ]
  },
  {
   "cell_type": "code",
   "execution_count": 5,
   "id": "614fc4d5-b2ff-4c74-8377-e61f09987051",
   "metadata": {},
   "outputs": [],
   "source": [
    "def generate_one_side_grid(params, attribute, values ):\n",
    "    params_list = []\n",
    "    labels = []\n",
    "    for value in values:\n",
    "        param = params.copy()\n",
    "        param[attribute] = value\n",
    "        params_list.append(param)\n",
    "        labels.append(f\"{attribute}:{value}\")\n",
    "    return params_list, labels"
   ]
  },
  {
   "cell_type": "code",
   "execution_count": 6,
   "id": "874548af-3902-40eb-ba2b-6e1dae15b697",
   "metadata": {},
   "outputs": [],
   "source": [
    "import numpy as np\n",
    "from functools import reduce\n",
    "\n",
    "def calculate_percentile(value, values):\n",
    "    # Convert the input values to a numpy array\n",
    "    values = np.array(values)\n",
    "    \n",
    "    # Calculate the percentile rank of the given value\n",
    "    percentile_rank = (np.sum(values < value) / len(values) * 100)//1\n",
    "    \n",
    "    return percentile_rank\n",
    "    \n",
    "def calculate_percentiles(costs, comparing_step = 100):\n",
    "    # Get the final cost for each scenario (the last element in each list)\n",
    "    flat_costs = reduce(lambda a,b : a+b, costs)\n",
    "    \n",
    "    \n",
    "    # Calculate the percentile rank of the given value\n",
    "    percentile_rank = [calculate_percentile(cost[comparing_step], flat_costs) for cost in costs]\n",
    "    \n",
    "    return percentile_rank\n"
   ]
  },
  {
   "cell_type": "code",
   "execution_count": 7,
   "id": "500499dc-0b3e-4837-9fc7-3ab05a024f2c",
   "metadata": {},
   "outputs": [],
   "source": [
    "import multiprocessing as mp\n",
    "\n",
    "\n",
    "def evaluate_several_options_single(ga, steps_number=100):\n",
    "    steps = []\n",
    "    costs_list = []\n",
    "    for step in tqdm(range(steps_number), desc=f\"Running GA for single option\", leave=False):\n",
    "        new_population, new_costs = ga.step()\n",
    "        tour, cost = min(zip(new_population, new_costs), key=lambda el: el[1])\n",
    "        costs_list.append(cost)\n",
    "        steps.append(step)\n",
    "    return steps, costs_list\n",
    "\n",
    "def evaluate_several_options_parallel(gas, steps_number=100):\n",
    "    # Create a pool of workers\n",
    "    with mp.Pool(mp.cpu_count()) as pool:\n",
    "        # Parallelize the evaluation of all GA instances\n",
    "        results = pool.starmap(evaluate_several_options_single, [(ga, steps_number) for ga in gas])\n",
    "\n",
    "    # Unpack the results\n",
    "    steps = [result[0] for result in results]  # List of step sequences for each GA\n",
    "    costs_list = [result[1] for result in results]  # List of cost sequences for each GA\n",
    "    return steps, costs_list"
   ]
  },
  {
   "cell_type": "code",
   "execution_count": 8,
   "id": "61096803-1352-4a67-b607-8c1fce329cdb",
   "metadata": {},
   "outputs": [],
   "source": [
    "\n",
    "NUM_NODES = 40\n",
    "nodes_list, edges_w = generate_network(num_nodes=NUM_NODES,rand_a=0,rand_b=200)"
   ]
  },
  {
   "cell_type": "markdown",
   "id": "d9e2649e-5ce6-4697-8000-34d3ee9413ce",
   "metadata": {},
   "source": [
    "# Optimizing the hyp tunning using Pool"
   ]
  },
  {
   "cell_type": "markdown",
   "id": "096d9e8d-e652-49ef-be5f-4824439938a5",
   "metadata": {},
   "source": [
    "# Without pool"
   ]
  },
  {
   "cell_type": "code",
   "execution_count": 9,
   "id": "0c11d279-fdee-4fab-b008-7c7c722b0d8e",
   "metadata": {},
   "outputs": [
    {
     "name": "stderr",
     "output_type": "stream",
     "text": [
      "Running RA for all options: 100%|█████████████| 100/100 [00:19<00:00,  5.04it/s]"
     ]
    },
    {
     "name": "stdout",
     "output_type": "stream",
     "text": [
      "CPU times: user 19.9 s, sys: 17.7 ms, total: 19.9 s\n",
      "Wall time: 19.9 s\n"
     ]
    },
    {
     "name": "stderr",
     "output_type": "stream",
     "text": [
      "\n"
     ]
    }
   ],
   "source": [
    "%%time\n",
    "\n",
    "\n",
    "params = {\n",
    "\"population_prop\":10, \"crossover_proportion\":0.7,\"mutation_thd\":0.2, \"exploration_prob\":0.2\n",
    "}\n",
    "params_list, labels = generate_one_side_grid(params, \"population_prop\", values = [x/10 for x in range(1,20)])\n",
    "\n",
    "gas = [TSPGAC(nodes_list, edges_w, **param) for param in params_list]\n",
    "\n",
    "steps, costs = evaluate_several_options(gas=gas, steps_number=100)"
   ]
  },
  {
   "cell_type": "markdown",
   "id": "84651620-9f9c-48f1-90fe-bffb5123e2f1",
   "metadata": {},
   "source": [
    "# With pool, running different GA in different workers"
   ]
  },
  {
   "cell_type": "code",
   "execution_count": 10,
   "id": "140b81ee-0287-4db5-ad73-7d0ce727b068",
   "metadata": {},
   "outputs": [
    {
     "name": "stderr",
     "output_type": "stream",
     "text": [
      "                                                                                \r"
     ]
    },
    {
     "name": "stdout",
     "output_type": "stream",
     "text": [
      "CPU times: user 92.7 ms, sys: 128 ms, total: 221 ms\n",
      "Wall time: 3.38 s\n"
     ]
    }
   ],
   "source": [
    "%%time\n",
    "\n",
    "\n",
    "params = {\n",
    "\"population_prop\":10, \"crossover_proportion\":0.7,\"mutation_thd\":0.2, \"exploration_prob\":0.2\n",
    "}\n",
    "params_list, labels = generate_one_side_grid(params, \"population_prop\", values = [x/10 for x in range(1,20)])\n",
    "\n",
    "gas = [TSPGAC(nodes_list, edges_w, **param) for param in params_list]\n",
    "\n",
    "steps, costs = evaluate_several_options_parallel(gas=gas, steps_number=100)"
   ]
  },
  {
   "cell_type": "markdown",
   "id": "fdaab98d-cca5-4375-a0d3-ebdbe267f4ff",
   "metadata": {},
   "source": [
    "# Finding best population based on number of nodes"
   ]
  },
  {
   "cell_type": "code",
   "execution_count": 11,
   "id": "9594bb0e-3bef-4a5a-a425-ce98c116f6c3",
   "metadata": {},
   "outputs": [
    {
     "name": "stdout",
     "output_type": "stream",
     "text": [
      "20\n"
     ]
    },
    {
     "name": "stderr",
     "output_type": "stream",
     "text": [
      "                                                                                \r"
     ]
    },
    {
     "name": "stdout",
     "output_type": "stream",
     "text": [
      "40\n"
     ]
    },
    {
     "name": "stderr",
     "output_type": "stream",
     "text": [
      "                                                                                \r"
     ]
    },
    {
     "name": "stdout",
     "output_type": "stream",
     "text": [
      "60\n"
     ]
    },
    {
     "name": "stderr",
     "output_type": "stream",
     "text": [
      "                                                                                \r"
     ]
    },
    {
     "name": "stdout",
     "output_type": "stream",
     "text": [
      "80\n"
     ]
    },
    {
     "name": "stderr",
     "output_type": "stream",
     "text": [
      "                                                                                \r"
     ]
    },
    {
     "name": "stdout",
     "output_type": "stream",
     "text": [
      "CPU times: user 571 ms, sys: 458 ms, total: 1.03 s\n",
      "Wall time: 50.9 s\n"
     ]
    }
   ],
   "source": [
    "%%time\n",
    "\n",
    "results = {}\n",
    "cost_dict = {}\n",
    "for NUM_NODES in [20,40,60,80]:\n",
    "    print(NUM_NODES)\n",
    "\n",
    "    nodes_list, edges_w = generate_network(num_nodes=NUM_NODES,rand_a=0,rand_b=200)\n",
    "    \n",
    "    params = {\n",
    "    \"population_prop\":10, \"crossover_proportion\":0.7,\"mutation_thd\":0.2, \"exploration_prob\":0.2\n",
    "    }\n",
    "    params_list, labels = generate_one_side_grid(params, \"population_prop\", values = [x/10 for x in range(1,20,2)])\n",
    "    \n",
    "    gas = [TSPGAC(nodes_list, edges_w, **param) for param in params_list]\n",
    "    \n",
    "    steps, costs = evaluate_several_options_parallel(gas=gas, steps_number=100)\n",
    "    results[f\"testing {NUM_NODES} nodes\"] = calculate_percentiles(costs, comparing_step=50)\n",
    "    cost_dict[f\"testing {NUM_NODES} nodes\"] = costs"
   ]
  },
  {
   "cell_type": "code",
   "execution_count": 37,
   "id": "b4dba310-616b-4e7f-993d-0e7ad0660a63",
   "metadata": {},
   "outputs": [
    {
     "data": {
      "image/png": "[encoded data removed]",
      "text/plain": [
       "<Figure size 1440x720 with 1 Axes>"
      ]
     },
     "metadata": {
      "needs_background": "light"
     },
     "output_type": "display_data"
    }
   ],
   "source": [
    "import seaborn as sns\n",
    "from matplotlib import pyplot as plt\n",
    "plt.figure(figsize=(20, 10))\n",
    "for idx, values in results.items():\n",
    "    sns.lineplot(x = [x/10 for x in range(1,20, 2)], y =values, label=idx)\n",
    "plt.title(\"Percentile reach it by population proportion using the 50th observation comparing 100th observation\")\n",
    "plt.xlabel(\"Population proportion based on number of nodes\")\n",
    "plt.ylabel(\"Percentile got it\")\n",
    "plt.show()"
   ]
  },
  {
   "cell_type": "code",
   "execution_count": 15,
   "id": "4b1dec62-ba70-4058-9953-a91ca054fc3d",
   "metadata": {},
   "outputs": [
    {
     "data": {
      "text/html": [
       "<div>\n",
       "<style scoped>\n",
       "    .dataframe tbody tr th:only-of-type {\n",
       "        vertical-align: middle;\n",
       "    }\n",
       "\n",
       "    .dataframe tbody tr th {\n",
       "        vertical-align: top;\n",
       "    }\n",
       "\n",
       "    .dataframe thead th {\n",
       "        text-align: right;\n",
       "    }\n",
       "</style>\n",
       "<table border=\"1\" class=\"dataframe\">\n",
       "  <thead>\n",
       "    <tr style=\"text-align: right;\">\n",
       "      <th></th>\n",
       "      <th>testing 20 nodes</th>\n",
       "      <th>testing 40 nodes</th>\n",
       "      <th>testing 60 nodes</th>\n",
       "      <th>testing 80 nodes</th>\n",
       "      <th>AVG</th>\n",
       "    </tr>\n",
       "  </thead>\n",
       "  <tbody>\n",
       "    <tr>\n",
       "      <th>population_prop:0.1</th>\n",
       "      <td>90.0</td>\n",
       "      <td>91.0</td>\n",
       "      <td>88.0</td>\n",
       "      <td>88.0</td>\n",
       "      <td>89.25</td>\n",
       "    </tr>\n",
       "    <tr>\n",
       "      <th>population_prop:0.3</th>\n",
       "      <td>79.0</td>\n",
       "      <td>74.0</td>\n",
       "      <td>61.0</td>\n",
       "      <td>68.0</td>\n",
       "      <td>70.50</td>\n",
       "    </tr>\n",
       "    <tr>\n",
       "      <th>population_prop:0.5</th>\n",
       "      <td>64.0</td>\n",
       "      <td>64.0</td>\n",
       "      <td>64.0</td>\n",
       "      <td>61.0</td>\n",
       "      <td>63.25</td>\n",
       "    </tr>\n",
       "    <tr>\n",
       "      <th>population_prop:0.7</th>\n",
       "      <td>34.0</td>\n",
       "      <td>52.0</td>\n",
       "      <td>53.0</td>\n",
       "      <td>49.0</td>\n",
       "      <td>47.00</td>\n",
       "    </tr>\n",
       "    <tr>\n",
       "      <th>population_prop:0.9</th>\n",
       "      <td>42.0</td>\n",
       "      <td>44.0</td>\n",
       "      <td>41.0</td>\n",
       "      <td>38.0</td>\n",
       "      <td>41.25</td>\n",
       "    </tr>\n",
       "    <tr>\n",
       "      <th>population_prop:1.1</th>\n",
       "      <td>28.0</td>\n",
       "      <td>39.0</td>\n",
       "      <td>37.0</td>\n",
       "      <td>31.0</td>\n",
       "      <td>33.75</td>\n",
       "    </tr>\n",
       "    <tr>\n",
       "      <th>population_prop:1.3</th>\n",
       "      <td>54.0</td>\n",
       "      <td>27.0</td>\n",
       "      <td>42.0</td>\n",
       "      <td>36.0</td>\n",
       "      <td>39.75</td>\n",
       "    </tr>\n",
       "    <tr>\n",
       "      <th>population_prop:1.5</th>\n",
       "      <td>15.0</td>\n",
       "      <td>17.0</td>\n",
       "      <td>22.0</td>\n",
       "      <td>26.0</td>\n",
       "      <td>20.00</td>\n",
       "    </tr>\n",
       "    <tr>\n",
       "      <th>population_prop:1.7</th>\n",
       "      <td>10.0</td>\n",
       "      <td>4.0</td>\n",
       "      <td>7.0</td>\n",
       "      <td>9.0</td>\n",
       "      <td>7.50</td>\n",
       "    </tr>\n",
       "    <tr>\n",
       "      <th>population_prop:1.9</th>\n",
       "      <td>12.0</td>\n",
       "      <td>31.0</td>\n",
       "      <td>14.0</td>\n",
       "      <td>16.0</td>\n",
       "      <td>18.25</td>\n",
       "    </tr>\n",
       "  </tbody>\n",
       "</table>\n",
       "</div>"
      ],
      "text/plain": [
       "                     testing 20 nodes  testing 40 nodes  testing 60 nodes  \\\n",
       "population_prop:0.1              90.0              91.0              88.0   \n",
       "population_prop:0.3              79.0              74.0              61.0   \n",
       "population_prop:0.5              64.0              64.0              64.0   \n",
       "population_prop:0.7              34.0              52.0              53.0   \n",
       "population_prop:0.9              42.0              44.0              41.0   \n",
       "population_prop:1.1              28.0              39.0              37.0   \n",
       "population_prop:1.3              54.0              27.0              42.0   \n",
       "population_prop:1.5              15.0              17.0              22.0   \n",
       "population_prop:1.7              10.0               4.0               7.0   \n",
       "population_prop:1.9              12.0              31.0              14.0   \n",
       "\n",
       "                     testing 80 nodes    AVG  \n",
       "population_prop:0.1              88.0  89.25  \n",
       "population_prop:0.3              68.0  70.50  \n",
       "population_prop:0.5              61.0  63.25  \n",
       "population_prop:0.7              49.0  47.00  \n",
       "population_prop:0.9              38.0  41.25  \n",
       "population_prop:1.1              31.0  33.75  \n",
       "population_prop:1.3              36.0  39.75  \n",
       "population_prop:1.5              26.0  20.00  \n",
       "population_prop:1.7               9.0   7.50  \n",
       "population_prop:1.9              16.0  18.25  "
      ]
     },
     "execution_count": 15,
     "metadata": {},
     "output_type": "execute_result"
    }
   ],
   "source": [
    "import pandas as pd\n",
    "df = pd.DataFrame(data=results.values(), columns=labels)\n",
    "df.index = results.keys()\n",
    "avg_list = [df[fld].mean() for fld in df.columns]\n",
    "df = df.T\n",
    "df[\"AVG\"] = avg_list\n",
    "df"
   ]
  },
  {
   "cell_type": "code",
   "execution_count": 16,
   "id": "782cf58e-1769-4398-85b1-4fe751af5179",
   "metadata": {},
   "outputs": [],
   "source": [
    "df.to_csv(\"data/tunning_population_pro2.csv\")"
   ]
  },
  {
   "cell_type": "code",
   "execution_count": 17,
   "id": "892479ef-1a47-4c88-8c88-1579609ba311",
   "metadata": {},
   "outputs": [
    {
     "name": "stdout",
     "output_type": "stream",
     "text": [
      "\\begin{tabular}{lrrrrr}\n",
      "\\toprule\n",
      "{} &  testing 20 nodes &  testing 40 nodes &  testing 60 nodes &  testing 80 nodes &    AVG \\\\\n",
      "\\midrule\n",
      "population\\_prop:0.1 &              90.0 &              91.0 &              88.0 &              88.0 &  89.25 \\\\\n",
      "population\\_prop:0.3 &              79.0 &              74.0 &              61.0 &              68.0 &  70.50 \\\\\n",
      "population\\_prop:0.5 &              64.0 &              64.0 &              64.0 &              61.0 &  63.25 \\\\\n",
      "population\\_prop:0.7 &              34.0 &              52.0 &              53.0 &              49.0 &  47.00 \\\\\n",
      "population\\_prop:0.9 &              42.0 &              44.0 &              41.0 &              38.0 &  41.25 \\\\\n",
      "population\\_prop:1.1 &              28.0 &              39.0 &              37.0 &              31.0 &  33.75 \\\\\n",
      "population\\_prop:1.3 &              54.0 &              27.0 &              42.0 &              36.0 &  39.75 \\\\\n",
      "population\\_prop:1.5 &              15.0 &              17.0 &              22.0 &              26.0 &  20.00 \\\\\n",
      "population\\_prop:1.7 &              10.0 &               4.0 &               7.0 &               9.0 &   7.50 \\\\\n",
      "population\\_prop:1.9 &              12.0 &              31.0 &              14.0 &              16.0 &  18.25 \\\\\n",
      "\\bottomrule\n",
      "\\end{tabular}\n",
      "\n"
     ]
    },
    {
     "name": "stderr",
     "output_type": "stream",
     "text": [
      "/tmp/ipykernel_58781/2350534188.py:1: FutureWarning: In future versions `DataFrame.to_latex` is expected to utilise the base implementation of `Styler.to_latex` for formatting and rendering. The arguments signature may therefore change. It is recommended instead to use `DataFrame.style.to_latex` which also contains additional functionality.\n",
      "  print(df.to_latex())\n"
     ]
    }
   ],
   "source": [
    "print(df.to_latex())"
   ]
  },
  {
   "cell_type": "code",
   "execution_count": 29,
   "id": "76396a0c-d1a3-4c4d-8199-f7a153a48cfb",
   "metadata": {},
   "outputs": [
    {
     "name": "stderr",
     "output_type": "stream",
     "text": [
      "/tmp/ipykernel_58781/3382402087.py:1: FutureWarning: Using short name for 'orient' is deprecated. Only the options: ('dict', list, 'series', 'split', 'records', 'index') will be used in a future version. Use one of the above to silence this warning.\n",
      "  result_dict = df[[\"AVG\"]].to_dict(\"idx\")\n"
     ]
    },
    {
     "data": {
      "text/plain": [
       "70.5"
      ]
     },
     "execution_count": 29,
     "metadata": {},
     "output_type": "execute_result"
    }
   ],
   "source": [
    "result_dict = df[[\"AVG\"]].to_dict(\"idx\")\n",
    "av, bv, cv = \"population_prop:0.3\", \"population_prop:1.1\", \"population_prop:1.9\"\n",
    "a = result_dict[av][\"AVG\"]\n",
    "b = result_dict[bv][\"AVG\"]\n",
    "c = result_dict[cv][\"AVG\"]\n",
    "a"
   ]
  },
  {
   "cell_type": "code",
   "execution_count": 30,
   "id": "b2e7cdc4-1c32-4ed3-b3b7-8feb60aa9d38",
   "metadata": {},
   "outputs": [
    {
     "name": "stdout",
     "output_type": "stream",
     "text": [
      "Using population_prop:0.3 vs population_prop:1.1 an improvement of: 70.5 - 33.75 =  36.75\n",
      "Compared with population_prop:1.1 vs population_prop:1.9 an improvement of: 33.75 - 18.25 =  15.5\n"
     ]
    }
   ],
   "source": [
    "print(f\"Using {av} vs {bv} an improvement of: {a} - {b} = \", a - b)\n",
    "print(f\"Compared with {bv} vs {cv} an improvement of: {b} - {c} = \", b - c)"
   ]
  },
  {
   "cell_type": "code",
   "execution_count": null,
   "id": "46480039-b2dc-4987-932c-390732f7b179",
   "metadata": {},
   "outputs": [],
   "source": []
  }
 ],
 "metadata": {
  "kernelspec": {
   "display_name": "Python 3 (ipykernel)",
   "language": "python",
   "name": "python3"
  },
  "language_info": {
   "codemirror_mode": {
    "name": "ipython",
    "version": 3
   },
   "file_extension": ".py",
   "mimetype": "text/x-python",
   "name": "python",
   "nbconvert_exporter": "python",
   "pygments_lexer": "ipython3",
   "version": "3.8.11"
  }
 },
 "nbformat": 4,
 "nbformat_minor": 5
}
